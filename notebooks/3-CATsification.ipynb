{
 "cells": [
  {
   "cell_type": "markdown",
   "metadata": {
    "id": "oS-AUsxRwScc"
   },
   "source": [
    "## **Cat classification**\n",
    "\n",
    "This notebook is modified from AI Builder's lesson 4v (image_classification.ipynb)"
   ]
  },
  {
   "cell_type": "markdown",
   "metadata": {
    "id": "RSaU_rakwScg"
   },
   "source": [
    "### Preparing data\n",
    "\n",
    "```\n",
    "Downloaded format:\n",
    "data/\n",
    "    category1\n",
    "    category2\n",
    "    category3\n",
    "```\n"
   ]
  },
  {
   "cell_type": "code",
   "execution_count": null,
   "metadata": {
    "executionInfo": {
     "elapsed": 6255,
     "status": "ok",
     "timestamp": 1683101215679,
     "user": {
      "displayName": "Pawin Chan",
      "userId": "16220646330934380382"
     },
     "user_tz": -420
    },
    "id": "h2dwwfSKwScn",
    "tags": []
   },
   "outputs": [],
   "source": [
    "import os\n",
    "import os.path as op\n",
    "import shutil\n",
    "from glob import glob\n",
    "import pandas as pd\n",
    "import numpy as np\n",
    "import matplotlib.pyplot as plt\n",
    "from tqdm.auto import tqdm\n",
    "\n",
    "from torchvision import datasets, models, transforms\n",
    "from torch.utils.data import DataLoader\n",
    "from sklearn.model_selection import train_test_split"
   ]
  },
  {
   "cell_type": "code",
   "execution_count": null,
   "metadata": {
    "executionInfo": {
     "elapsed": 8,
     "status": "ok",
     "timestamp": 1683101215681,
     "user": {
      "displayName": "Pawin Chan",
      "userId": "16220646330934380382"
     },
     "user_tz": -420
    },
    "id": "48Rr9ah1wScq",
    "tags": []
   },
   "outputs": [],
   "source": [
    "# get all image paths\n",
    "img_df = pd.DataFrame(glob(\"extras/*/*.jpg\"), columns=[\"path\"])\n",
    "img_df[\"id\"] = img_df.path.map(lambda x: op.basename(x).replace(\".jpg\", \"\"))"
   ]
  },
  {
   "cell_type": "markdown",
   "metadata": {
    "id": "an-8gYiKwScy",
    "tags": []
   },
   "source": [
    "## Image classification with FastAI"
   ]
  },
  {
   "cell_type": "code",
   "execution_count": null,
   "metadata": {
    "colab": {
     "base_uri": "https://localhost:8080/"
    },
    "executionInfo": {
     "elapsed": 41561,
     "status": "ok",
     "timestamp": 1683101301920,
     "user": {
      "displayName": "Pawin Chan",
      "userId": "16220646330934380382"
     },
     "user_tz": -420
    },
    "id": "VVxwYAFwwSc0",
    "outputId": "c99c27d3-6e3b-405e-cced-021b7989fd3e",
    "tags": []
   },
   "outputs": [],
   "source": [
    "# สำหรับคนที่ยังไม่ได้ลงไลบรารี่ fastbook ให้ uncomment บรรทัด !pip install\n",
    "!pip install -Uqq fastbook\n",
    "import fastbook\n",
    "fastbook.setup_book()"
   ]
  },
  {
   "cell_type": "code",
   "execution_count": null,
   "metadata": {
    "executionInfo": {
     "elapsed": 7,
     "status": "ok",
     "timestamp": 1683101365720,
     "user": {
      "displayName": "Pawin Chan",
      "userId": "16220646330934380382"
     },
     "user_tz": -420
    },
    "id": "1fwYLTIEwSc1",
    "tags": []
   },
   "outputs": [],
   "source": [
    "from fastbook import *"
   ]
  },
  {
   "cell_type": "code",
   "execution_count": null,
   "metadata": {
    "executionInfo": {
     "elapsed": 5,
     "status": "ok",
     "timestamp": 1683101367461,
     "user": {
      "displayName": "Pawin Chan",
      "userId": "16220646330934380382"
     },
     "user_tz": -420
    },
    "id": "_MgQvYskwSc3",
    "tags": []
   },
   "outputs": [],
   "source": [
    "fields = DataBlock(\n",
    "    blocks=(ImageBlock, CategoryBlock), #\n",
    "    get_items=get_image_files, #Get list of files\n",
    "    get_y=parent_label, #Getting the folder name (to see which type of dog it is)\n",
    "    splitter=RandomSplitter(valid_pct=0.2, seed=314), #Split train/validation 80:20. \n",
    "    #If you have already categorized by folder, change the line to `GrandparentSplitter(valid_name='validation')`\n",
    "    item_tfms=RandomResizedCrop(224, min_scale=0.5), #Resize the image into 224x224 (to make it same resnet34)\n",
    "    batch_tfms=aug_transforms()\n",
    ")"
   ]
  },
  {
   "cell_type": "code",
   "execution_count": null,
   "metadata": {
    "colab": {
     "base_uri": "https://localhost:8080/"
    },
    "executionInfo": {
     "elapsed": 385,
     "status": "ok",
     "timestamp": 1683101371517,
     "user": {
      "displayName": "Pawin Chan",
      "userId": "16220646330934380382"
     },
     "user_tz": -420
    },
    "id": "3EwWCAnlwSc6",
    "outputId": "e1f89b6c-500e-4655-c65a-c544d72d830c",
    "tags": []
   },
   "outputs": [],
   "source": [
    "get_image_files(\"data/\")"
   ]
  },
  {
   "cell_type": "code",
   "execution_count": null,
   "metadata": {
    "executionInfo": {
     "elapsed": 9874,
     "status": "ok",
     "timestamp": 1683101387141,
     "user": {
      "displayName": "Pawin Chan",
      "userId": "16220646330934380382"
     },
     "user_tz": -420
    },
    "id": "N-9X0PtpwSc7",
    "tags": []
   },
   "outputs": [],
   "source": [
    "dls = fields.dataloaders(\"data\")"
   ]
  },
  {
   "cell_type": "code",
   "execution_count": null,
   "metadata": {
    "colab": {
     "base_uri": "https://localhost:8080/"
    },
    "executionInfo": {
     "elapsed": 10,
     "status": "ok",
     "timestamp": 1683101387142,
     "user": {
      "displayName": "Pawin Chan",
      "userId": "16220646330934380382"
     },
     "user_tz": -420
    },
    "id": "VeK7GHXrwSc8",
    "outputId": "9cfa4d53-bb87-4789-e91c-67912acf400a",
    "tags": []
   },
   "outputs": [],
   "source": [
    "dls.vocab"
   ]
  },
  {
   "cell_type": "code",
   "execution_count": null,
   "metadata": {
    "colab": {
     "base_uri": "https://localhost:8080/",
     "height": 517
    },
    "executionInfo": {
     "elapsed": 3197,
     "status": "ok",
     "timestamp": 1683101390333,
     "user": {
      "displayName": "Pawin Chan",
      "userId": "16220646330934380382"
     },
     "user_tz": -420
    },
    "id": "p8YHzBzWwSc8",
    "outputId": "d029078e-2796-4bc7-e58c-f8a4f212f0d8",
    "tags": []
   },
   "outputs": [],
   "source": [
    "dls.train.show_batch(max_n=8, nrows=2)"
   ]
  },
  {
   "cell_type": "markdown",
   "metadata": {},
   "source": [
    "## Training"
   ]
  },
  {
   "cell_type": "code",
   "execution_count": null,
   "metadata": {
    "colab": {
     "base_uri": "https://localhost:8080/"
    },
    "executionInfo": {
     "elapsed": 1446,
     "status": "ok",
     "timestamp": 1683104974735,
     "user": {
      "displayName": "Pawin Chan",
      "userId": "16220646330934380382"
     },
     "user_tz": -420
    },
    "id": "fZcmcGT3wSc8",
    "outputId": "9f0f64c5-7598-4240-ad60-5f7b56137ed1",
    "tags": []
   },
   "outputs": [],
   "source": [
    "learner50 = cnn_learner(dls, resnet50, metrics=[error_rate, accuracy])"
   ]
  },
  {
   "cell_type": "code",
   "execution_count": null,
   "metadata": {
    "tags": []
   },
   "outputs": [],
   "source": [
    "lr2 = learner50.lr_find() # หา learning rate ที่เหมาะสม"
   ]
  },
  {
   "cell_type": "code",
   "execution_count": null,
   "metadata": {
    "tags": []
   },
   "outputs": [],
   "source": [
    "lr2.valley"
   ]
  },
  {
   "cell_type": "code",
   "execution_count": null,
   "metadata": {
    "tags": []
   },
   "outputs": [],
   "source": [
    "learner50.fine_tune(epochs=10, freeze_epochs=1, base_lr=lr2.valley)"
   ]
  },
  {
   "cell_type": "markdown",
   "metadata": {
    "id": "nRvy4stRwSc-"
   },
   "source": [
    "## Extra Information"
   ]
  },
  {
   "cell_type": "code",
   "execution_count": null,
   "metadata": {
    "colab": {
     "base_uri": "https://localhost:8080/",
     "height": 886
    },
    "executionInfo": {
     "elapsed": 63497,
     "status": "ok",
     "timestamp": 1683104939265,
     "user": {
      "displayName": "Pawin Chan",
      "userId": "16220646330934380382"
     },
     "user_tz": -420
    },
    "id": "re--2kF9wSc-",
    "outputId": "c069636e-f2c9-4acb-d145-218da3b2672a",
    "tags": []
   },
   "outputs": [],
   "source": [
    "interp = ClassificationInterpretation.from_learner(learner50)\n",
    "interp.plot_confusion_matrix(figsize=(12,12), dpi=150)"
   ]
  },
  {
   "cell_type": "code",
   "execution_count": null,
   "metadata": {
    "colab": {
     "base_uri": "https://localhost:8080/",
     "height": 156
    },
    "executionInfo": {
     "elapsed": 27256,
     "status": "ok",
     "timestamp": 1683104966495,
     "user": {
      "displayName": "Pawin Chan",
      "userId": "16220646330934380382"
     },
     "user_tz": -420
    },
    "id": "0bwZMu1LwSc_",
    "outputId": "a330e006-cf65-4a14-ffa7-61b038dca725",
    "tags": []
   },
   "outputs": [],
   "source": [
    "interp.most_confused(min_val=5)"
   ]
  },
  {
   "cell_type": "code",
   "execution_count": null,
   "metadata": {
    "colab": {
     "base_uri": "https://localhost:8080/",
     "height": 1000
    },
    "executionInfo": {
     "elapsed": 5069,
     "status": "ok",
     "timestamp": 1683106202478,
     "user": {
      "displayName": "Pawin Chan",
      "userId": "16220646330934380382"
     },
     "user_tz": -420
    },
    "id": "yYskTMKPwSc_",
    "outputId": "893ce90b-18bd-44b2-c991-f21daccbf62b",
    "tags": []
   },
   "outputs": [],
   "source": [
    "learner50.show_results(max_n=16)"
   ]
  },
  {
   "cell_type": "markdown",
   "metadata": {
    "id": "_R1dShdZwSdA"
   },
   "source": [
    "## Saving the model"
   ]
  },
  {
   "cell_type": "code",
   "execution_count": null,
   "metadata": {
    "executionInfo": {
     "elapsed": 6,
     "status": "ok",
     "timestamp": 1683104871667,
     "user": {
      "displayName": "Pawin Chan",
      "userId": "16220646330934380382"
     },
     "user_tz": -420
    },
    "id": "IsfNkSejwSdA",
    "tags": []
   },
   "outputs": [],
   "source": [
    "learner50.export(\"dbc_resnet50_fastai_bigv3.5-cleaned.pkl\")"
   ]
  },
  {
   "cell_type": "markdown",
   "metadata": {
    "id": "5-GDftzbwSdA"
   },
   "source": [
    "## Loading model for prediction"
   ]
  },
  {
   "cell_type": "code",
   "execution_count": null,
   "metadata": {
    "id": "sT2NDRrGwSdB"
   },
   "outputs": [],
   "source": [
    "from fastbook import *\n",
    "from glob import glob\n",
    "from pathlib import Path\n",
    "from sklearn.metrics import precision_recall_fscore_support, accuracy_score, roc_auc_score\n",
    "\n",
    "learn_inf = load_learner('dbc_resnet50_fastai_bigv3.5-cleaned.pkl')"
   ]
  },
  {
   "cell_type": "code",
   "execution_count": null,
   "metadata": {
    "colab": {
     "base_uri": "https://localhost:8080/"
    },
    "executionInfo": {
     "elapsed": 1320,
     "status": "ok",
     "timestamp": 1682583915170,
     "user": {
      "displayName": "Pawin Chan",
      "userId": "16220646330934380382"
     },
     "user_tz": -420
    },
    "id": "mUtxwtSQzYrl",
    "outputId": "5ff51157-7fe4-4ca9-ab8d-6d11dd0bfc92"
   },
   "outputs": [],
   "source": [
    "!wget https://cdn.discordapp.com/attachments/1009623322851561513/1101061230879309834/cat.png"
   ]
  },
  {
   "cell_type": "code",
   "execution_count": null,
   "metadata": {
    "colab": {
     "base_uri": "https://localhost:8080/",
     "height": 241
    },
    "executionInfo": {
     "elapsed": 903,
     "status": "ok",
     "timestamp": 1682583978571,
     "user": {
      "displayName": "Pawin Chan",
      "userId": "16220646330934380382"
     },
     "user_tz": -420
    },
    "id": "GSoD0LBqwSdB",
    "outputId": "7c146712-82c3-4a63-d3ba-f0c6f892b263"
   },
   "outputs": [],
   "source": [
    "Image.open(\"cat.png\").resize((224, 224))"
   ]
  },
  {
   "cell_type": "code",
   "execution_count": null,
   "metadata": {
    "colab": {
     "base_uri": "https://localhost:8080/",
     "height": 69
    },
    "executionInfo": {
     "elapsed": 970,
     "status": "ok",
     "timestamp": 1682583995605,
     "user": {
      "displayName": "Pawin Chan",
      "userId": "16220646330934380382"
     },
     "user_tz": -420
    },
    "id": "wyLqrhc7wSdC",
    "outputId": "f28df1d5-7293-4896-bacb-225587365d5e"
   },
   "outputs": [],
   "source": [
    "learn_inf.predict(\"cat.png\")"
   ]
  },
  {
   "cell_type": "code",
   "execution_count": null,
   "metadata": {
    "colab": {
     "base_uri": "https://localhost:8080/"
    },
    "executionInfo": {
     "elapsed": 2405,
     "status": "ok",
     "timestamp": 1682584230693,
     "user": {
      "displayName": "Pawin Chan",
      "userId": "16220646330934380382"
     },
     "user_tz": -420
    },
    "id": "j6XoIAmgwSdD",
    "outputId": "e7176e0d-615f-4c85-c5b6-ce78fbcdcca2"
   },
   "outputs": [],
   "source": [
    "!wget https://media.discordapp.net/attachments/1009623322851561513/1101062512310497390/cat2.png"
   ]
  },
  {
   "cell_type": "code",
   "execution_count": null,
   "metadata": {
    "colab": {
     "base_uri": "https://localhost:8080/",
     "height": 241
    },
    "executionInfo": {
     "elapsed": 109,
     "status": "ok",
     "timestamp": 1682584230697,
     "user": {
      "displayName": "Pawin Chan",
      "userId": "16220646330934380382"
     },
     "user_tz": -420
    },
    "id": "3L0is8zA1VJU",
    "outputId": "655cd19c-09d0-4fae-859e-50a9f877ddc8"
   },
   "outputs": [],
   "source": [
    "Image.open(\"cat2.png\").resize((224, 224))"
   ]
  },
  {
   "cell_type": "code",
   "execution_count": null,
   "metadata": {
    "colab": {
     "base_uri": "https://localhost:8080/",
     "height": 69
    },
    "executionInfo": {
     "elapsed": 873,
     "status": "ok",
     "timestamp": 1682584231490,
     "user": {
      "displayName": "Pawin Chan",
      "userId": "16220646330934380382"
     },
     "user_tz": -420
    },
    "id": "wtS7Bm3D1ZhV",
    "outputId": "8dbe223c-f428-4e89-de52-97f1f449018c"
   },
   "outputs": [],
   "source": [
    "prediction = learn_inf.predict(\"cat2.png\")"
   ]
  }
 ],
 "metadata": {
  "accelerator": "GPU",
  "colab": {
   "provenance": [
    {
     "file_id": "1-jjgwXzPLnqlleTkiUzXySV2ERLgs2C5",
     "timestamp": 1682514409963
    },
    {
     "file_id": "https://github.com/ai-builders/curriculum/blob/main/notebooks/04v_classification.ipynb",
     "timestamp": 1682398336237
    }
   ]
  },
  "gpuClass": "standard",
  "kernelspec": {
   "display_name": "default:Python",
   "language": "python",
   "name": "conda-env-default-py"
  },
  "language_info": {
   "codemirror_mode": {
    "name": "ipython",
    "version": 3
   },
   "file_extension": ".py",
   "mimetype": "text/x-python",
   "name": "python",
   "nbconvert_exporter": "python",
   "pygments_lexer": "ipython3",
   "version": "3.9.16"
  }
 },
 "nbformat": 4,
 "nbformat_minor": 4
}
