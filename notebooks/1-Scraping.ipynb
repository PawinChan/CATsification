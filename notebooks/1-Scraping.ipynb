{
 "cells": [
  {
   "cell_type": "markdown",
   "metadata": {
    "id": "r3AMUOD_a6zp"
   },
   "source": [
    "## Downloading images from Reddit\n",
    "\n",
    "####References:\n",
    "- https://github.com/mikf/gallery-dl\n",
    "- https://www.reddit.com/r/DataHoarder/comments/k86s45/comment/gezgt44/\n",
    "- https://www.reddit.com/r/Catsubs/wiki/index/#wiki_general_cats\n",
    "- https://stackoverflow.com/a/47310093/19819055\n",
    "\n",
    "#### Notes\n",
    "1000 Images per sub should be fine\n",
    "\n",
    "#### Baselines\n",
    "Maybe use v1 and compare to v2\n",
    "\n",
    "\n",
    "### Updates to this notebook\n",
    "- added /top behind the url to sort posts by upvotes (might result in better image quality)\n",
    "- ~~use Jupyter notebook's !{command} instead of subprocess.run() (should show more details of what's going on while waiting, since run() doesn't log command outputs to the notebook for some reason...~~\n",
    " turns out this was too spammy and slowed the whole browser down. reverting back...\n"
   ]
  },
  {
   "cell_type": "markdown",
   "metadata": {
    "id": "8COesHBof8PD"
   },
   "source": [
    "# Setting up stuff"
   ]
  },
  {
   "cell_type": "markdown",
   "metadata": {
    "id": "W4B8PiYzuTZo"
   },
   "source": [
    "Installing required packages"
   ]
  },
  {
   "cell_type": "code",
   "execution_count": null,
   "metadata": {
    "colab": {
     "base_uri": "https://localhost:8080/"
    },
    "executionInfo": {
     "elapsed": 28426,
     "status": "ok",
     "timestamp": 1682574781469,
     "user": {
      "displayName": "Pawin Chan",
      "userId": "16220646330934380382"
     },
     "user_tz": -420
    },
    "id": "6yltboLAbCcj",
    "outputId": "406af7c0-bc78-4b7a-d73c-1a001fb0cfdc",
    "tags": []
   },
   "outputs": [],
   "source": [
    "!python3 -m pip install -U gallery-dl"
   ]
  },
  {
   "cell_type": "code",
   "execution_count": null,
   "metadata": {
    "tags": []
   },
   "outputs": [],
   "source": [
    "conda install -c conda-forge imagemagick"
   ]
  },
  {
   "cell_type": "markdown",
   "metadata": {
    "id": "82c_wuMWuV4D"
   },
   "source": [
    "Importing stuff"
   ]
  },
  {
   "cell_type": "code",
   "execution_count": null,
   "metadata": {
    "id": "4LqbYTGTswER",
    "tags": []
   },
   "outputs": [],
   "source": [
    "from subprocess import run\n",
    "from threading import Thread\n",
    "from time import sleep\n",
    "import os, shutil"
   ]
  },
  {
   "cell_type": "code",
   "execution_count": null,
   "metadata": {
    "tags": []
   },
   "outputs": [],
   "source": [
    "!magick"
   ]
  },
  {
   "cell_type": "markdown",
   "metadata": {
    "id": "QC_nWgcMgB2M"
   },
   "source": [
    "# Configuration Settings\n",
    "- Amount\n",
    "- Subreddits"
   ]
  },
  {
   "cell_type": "code",
   "execution_count": null,
   "metadata": {
    "id": "eV_UXSG-e0Q6",
    "tags": []
   },
   "outputs": [],
   "source": [
    "amount = 100#@param {type:\"integer\"}\n",
    "subreddits_to_download=\"\"\"\n",
    "CreamsicleCats\n",
    "IllegallySmolCats\n",
    "GrumpyCats\n",
    "norwegianForestCats\n",
    "MaineCoons\n",
    "Ragdolls\n",
    "BlackCats\n",
    "Torties\n",
    "Torbie\n",
    "CalicoKittys\n",
    "tortico\n",
    "MunchkinCats\n",
    "Sphynx\n",
    "PersianCat\n",
    "RussianBlue\n",
    "ScottishFold\n",
    "SiameseCats\n",
    "BengalCats\n",
    "BritishShortHair\n",
    "Savannah_Cats\n",
    "Nebelung\n",
    "SiberianCats\n",
    "DevonRex\n",
    "ExoticShorthair\n",
    "TuxedoCats\n",
    "OneOrangeBraincell\n",
    "BurmeseCats\n",
    "TwoFacedCats\n",
    "turkishvan\n",
    "orientalshorthair\n",
    "flamepoints\n",
    "standardissuecat\n",
    "watercolorcats\n",
    "piebaldcats\n",
    "cowcats\n",
    "blotchfacecats\n",
    "SeniorCats\n",
    "SleepingCats\n",
    "FluffyCats\n",
    "PirateKitties\n",
    "\"\"\""
   ]
  },
  {
   "cell_type": "markdown",
   "metadata": {
    "id": "EgWxUFkwtwZW"
   },
   "source": [
    "### Converting the string to a list"
   ]
  },
  {
   "cell_type": "code",
   "execution_count": null,
   "metadata": {
    "colab": {
     "base_uri": "https://localhost:8080/"
    },
    "executionInfo": {
     "elapsed": 20,
     "status": "ok",
     "timestamp": 1682574785798,
     "user": {
      "displayName": "Pawin Chan",
      "userId": "16220646330934380382"
     },
     "user_tz": -420
    },
    "id": "EhZzm_gTfyE0",
    "outputId": "797cdbd4-feaf-4ee1-cdcd-2ee66ce4142f",
    "tags": []
   },
   "outputs": [],
   "source": [
    "subreddit_list = subreddits_to_download.strip().split(\"\\n\")\n",
    "print(f\"Number of Subreddits: {len(subreddit_list)}\")\n",
    "print(f\"List Preview: {subreddit_list}\")"
   ]
  },
  {
   "cell_type": "markdown",
   "metadata": {
    "id": "NtXfNVepuGG7"
   },
   "source": [
    "## Finally downloading the data"
   ]
  },
  {
   "cell_type": "code",
   "execution_count": null,
   "metadata": {
    "colab": {
     "base_uri": "https://localhost:8080/",
     "height": 382
    },
    "executionInfo": {
     "elapsed": 167071,
     "status": "ok",
     "timestamp": 1682574960879,
     "user": {
      "displayName": "Pawin Chan",
      "userId": "16220646330934380382"
     },
     "user_tz": -420
    },
    "id": "LRoYFXSdbJUy",
    "outputId": "33302dae-5321-42d1-a612-145511d61732",
    "tags": []
   },
   "outputs": [],
   "source": [
    "%cd ~/sagemaker \n",
    "\n",
    "from subprocess import DEVNULL\n",
    "\n",
    "def download_images(subreddit_name):\n",
    "  print(f\"Executing run command for subreddit {subreddit_name}\")\n",
    "\n",
    "  url=f\"https://www.reddit.com/r/{subreddit_name}/top/?t=all\" \n",
    "  #/top/?t=all is required to make it sort by upvotes. This may naturally filter out some bad-quality images\n",
    "\n",
    "  command = f'''gallery-dl --range 1-{amount} {url}'''#running the command\n",
    "  run(command, shell=True, stdout=DEVNULL, stderr=DEVNULL)\n",
    "  print(f\"Done downloading {subreddit_name}\")\n",
    "\n",
    "for subreddit_name in subreddit_list:\n",
    "  Thread(target=download_images, args=(subreddit_name,)).start()\n",
    "  #sleep(1)\n",
    "  #download_images(subreddit_name)\n",
    "\n",
    "\n",
    "input(\"\\nKeeping this cell active to monitor thread progress. Press enter when they are all done: \") #keep cell active to show output"
   ]
  },
  {
   "cell_type": "markdown",
   "metadata": {
    "id": "NJAdtbJ0eq09"
   },
   "source": [
    "## Renaming files (optional)"
   ]
  },
  {
   "cell_type": "code",
   "execution_count": null,
   "metadata": {
    "tags": []
   },
   "outputs": [],
   "source": [
    "%pwd"
   ]
  },
  {
   "cell_type": "code",
   "execution_count": null,
   "metadata": {
    "tags": []
   },
   "outputs": [],
   "source": [
    "%cd ~"
   ]
  },
  {
   "cell_type": "code",
   "execution_count": null,
   "metadata": {
    "colab": {
     "base_uri": "https://localhost:8080/"
    },
    "executionInfo": {
     "elapsed": 763,
     "status": "ok",
     "timestamp": 1682574973203,
     "user": {
      "displayName": "Pawin Chan",
      "userId": "16220646330934380382"
     },
     "user_tz": -420
    },
    "id": "J36OmF2VdELA",
    "outputId": "ec0adc87-80de-46d1-b944-828799f4383e",
    "tags": []
   },
   "outputs": [],
   "source": [
    "for folder in os.listdir(\"/home/studio-lab-user/sagemaker/gallery-dl/reddit/\"):\n",
    "  os.chdir(f\"/home/studio-lab-user/sagemaker/gallery-dl/reddit/{folder}\")\n",
    "  filesInFolder = os.listdir()\n",
    "  print(f\"Detected {len(filesInFolder)} files in folder {folder}\")\n",
    "  #print(filesInFolder)\n",
    "  for i in range(len(filesInFolder)):\n",
    "    j = filesInFolder[i]\n",
    "    if j.startswith(\".\"):\n",
    "      pass\n",
    "    else:\n",
    "      ext = j.split(\".\")[-1]\n",
    "      os.rename(j, f\"{str(i).zfill(4)}.{ext}\")"
   ]
  },
  {
   "cell_type": "markdown",
   "metadata": {
    "id": "yBxboD-_qfcA"
   },
   "source": [
    "## Compressing it a bit"
   ]
  },
  {
   "cell_type": "code",
   "execution_count": null,
   "metadata": {
    "colab": {
     "base_uri": "https://localhost:8080/",
     "height": 434
    },
    "executionInfo": {
     "elapsed": 15287,
     "status": "ok",
     "timestamp": 1682580558774,
     "user": {
      "displayName": "Pawin Chan",
      "userId": "16220646330934380382"
     },
     "user_tz": -420
    },
    "id": "eUAogxAdqe9k",
    "outputId": "1d5335eb-153a-4371-a7ec-bf206972ec83",
    "tags": []
   },
   "outputs": [],
   "source": [
    "def resize_images(folder):\n",
    "  os.chdir(f\"/home/studio-lab-user/sagemaker/gallery-dl/reddit/{folder}\")\n",
    "  print(f\"Starting resize for {folder}.\")\n",
    "  run(\"mogrify -format jpg -filter cubic -resize 1024x1024 *.*\", shell=True, stdout=DEVNULL, stderr=DEVNULL)\n",
    "  #resize the image using imagemagick\n",
    "\n",
    "  print(f\"Almost there, cleaning up {folder}\")\n",
    "  run(\"find . -type f ! -name '*.jpg' -delete\", shell=True)\n",
    "\n",
    "  print(f\"Done resizing {folder}\")\n",
    "\n",
    "for folder in os.listdir(\"/home/studio-lab-user/sagemaker/gallery-dl/reddit/\"):\n",
    "  Thread(target=resize_images, args=(folder,)).start()\n",
    "  #resize_images(folder)\n",
    "\n",
    "print(\"Successfully launched the resizers, this will take a while... Maybe go grab a drink?\")\n",
    "input(\"\\nKeeping this cell active to monitor thread progress. Press enter when they are all done: \")"
   ]
  },
  {
   "cell_type": "markdown",
   "metadata": {
    "id": "ghtO42vCxM5X"
   },
   "source": [
    "### Zipping and obtaining the results\n",
    "\n",
    "---\n",
    "\n"
   ]
  },
  {
   "cell_type": "code",
   "execution_count": null,
   "metadata": {
    "colab": {
     "base_uri": "https://localhost:8080/"
    },
    "executionInfo": {
     "elapsed": 5684,
     "status": "ok",
     "timestamp": 1682580571939,
     "user": {
      "displayName": "Pawin Chan",
      "userId": "16220646330934380382"
     },
     "user_tz": -420
    },
    "id": "DqwVe0QkxMWN",
    "outputId": "532ffd06-83cc-4a84-a6ed-77a627877d2f"
   },
   "outputs": [],
   "source": [
    "%cd /home/studio-lab-user/sagemaker\n",
    "!ls\n",
    "%cd ./gallery-dl/reddit/\n",
    "!rm cat-data.zip\n",
    "!zip cat-data.zip -r . -0\n",
    "#files.download(\"/content/cat-data.zip\")"
   ]
  },
  {
   "cell_type": "code",
   "execution_count": null,
   "metadata": {
    "tags": []
   },
   "outputs": [],
   "source": [
    "%ls"
   ]
  }
 ],
 "metadata": {
  "colab": {
   "authorship_tag": "ABX9TyMlQ/fXtI2x34ggFkznIBea",
   "provenance": []
  },
  "kernelspec": {
   "display_name": "default:Python",
   "language": "python",
   "name": "conda-env-default-py"
  },
  "language_info": {
   "codemirror_mode": {
    "name": "ipython",
    "version": 3
   },
   "file_extension": ".py",
   "mimetype": "text/x-python",
   "name": "python",
   "nbconvert_exporter": "python",
   "pygments_lexer": "ipython3",
   "version": "3.9.16"
  }
 },
 "nbformat": 4,
 "nbformat_minor": 4
}
